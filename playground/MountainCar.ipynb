{
 "cells": [
  {
   "cell_type": "markdown",
   "metadata": {
    "collapsed": true,
    "pycharm": {
     "name": "#%% md\n"
    }
   },
   "source": [
    "## Classic Control\n",
    "\n",
    "### MountainCar (v0)\n",
    "\n",
    "_A car is on a one-dimensional track, positioned between two \"mountains\".  \n",
    "The goal is to drive up the mountain on the right.\n",
    "However, the car's engine is not strong enough to scale the mountain in a single pass. \n",
    "Therefore, the only way to succeed is to drive back and forth to build up the momentum._\n",
    "\n",
    "[Environment Source code (GitHub)](https://github.com/openai/gym/blob/master/gym/envs/classic_control/mountain_car.py)"
   ]
  },
  {
   "cell_type": "code",
   "execution_count": 1,
   "outputs": [],
   "source": [
    "from IPython.display import Markdown, display, clear_output"
   ],
   "metadata": {
    "collapsed": false,
    "pycharm": {
     "name": "#%%\n"
    }
   }
  },
  {
   "cell_type": "code",
   "execution_count": 2,
   "outputs": [],
   "source": [
    "import engine\n",
    "import envs"
   ],
   "metadata": {
    "collapsed": false,
    "pycharm": {
     "name": "#%%\n"
    }
   }
  },
  {
   "cell_type": "code",
   "execution_count": 3,
   "outputs": [
    {
     "name": "stdout",
     "output_type": "stream",
     "text": [
      "Observation space type: <class 'gym.spaces.box.Box'>\n",
      "Observation space size: (2,) * float32\n",
      "Observation space max values: [0.6  0.07]\n",
      "Observation space min values: [-1.2  -0.07]\n"
     ]
    },
    {
     "data": {
      "text/plain": "<IPython.core.display.Markdown object>",
      "text/markdown": "---"
     },
     "metadata": {},
     "output_type": "display_data"
    },
    {
     "name": "stdout",
     "output_type": "stream",
     "text": [
      "Action space type: Discrete(3)\n"
     ]
    },
    {
     "data": {
      "text/plain": "<IPython.core.display.Markdown object>",
      "text/markdown": "---"
     },
     "metadata": {},
     "output_type": "display_data"
    },
    {
     "name": "stdout",
     "output_type": "stream",
     "text": [
      "Reward range: (-inf, inf)\n"
     ]
    }
   ],
   "source": [
    "env = engine.instantiate(envs.MOUNTAIN_CAR)\n",
    "\n",
    "print(\"Observation space type:\", type(env.observation_space))\n",
    "print(\"Observation space size:\", env.observation_space.shape, \"*\", env.observation_space.dtype)\n",
    "print(\"Observation space max values:\", env.observation_space.high)\n",
    "print(\"Observation space min values:\", env.observation_space.low)\n",
    "\n",
    "display(Markdown('---'))\n",
    "\n",
    "print(\"Action space type:\", env.action_space)\n",
    "\n",
    "display(Markdown('---'))\n",
    "\n",
    "print(\"Reward range:\", env.reward_range)"
   ],
   "metadata": {
    "collapsed": false,
    "pycharm": {
     "name": "#%%\n"
    }
   }
  },
  {
   "cell_type": "markdown",
   "source": [
    "### Observation Space - _Box(2)_\n",
    "\n",
    "| Index | Observation Type | Min Value | Max Value |\n",
    "|:-----:|------------------|:---------:|:---------:|\n",
    "|   0   | Car Position     |   -1.2    |    0.6    |\n",
    "|   1   | Car Velocity     |   -0.07   |   0.07    |\n",
    "\n",
    "### Action Space - _Discrete(3)_\n",
    "\n",
    "| Action | Action Type             |\n",
    "|:------:|-------------------------|\n",
    "|   0    | Accelerate to the Left  |\n",
    "|   1    | Don't accelerate        |\n",
    "|   2    | Accelerate to the Right |\n",
    "\n",
    "_**Note**: This doesn't affect the amount of velocity affected by the gravitational pull action on the car._ \n",
    "\n",
    "### Reward\n",
    "Reward of 0 is awarded if the agent reached the flag (position = 0.5) on top of the mountain.  \n",
    "Reward of -1 is awarded if the position of the agent is less than 0.5.\n",
    "\n",
    "### Starting State\n",
    "The position of the car is assigned a uniform random value in [-0.6, -0.4].  \n",
    "The starting velocity of the car is always assigned to 0.\n",
    "\n",
    "### Termination Conditions\n",
    "1) The Car position is more than 0.5  \n",
    "2) Episode length is greater than 200\n",
    "\n",
    "### Solved Requirements\n",
    "Considered solved when getting the average reward of -110.0 over 100 consecutive trials."
   ],
   "metadata": {
    "collapsed": false,
    "pycharm": {
     "name": "#%% md\n"
    }
   }
  },
  {
   "cell_type": "code",
   "execution_count": 4,
   "outputs": [],
   "source": [
    "from agents import RandomAgent\n",
    "\n",
    "agent = RandomAgent(env)"
   ],
   "metadata": {
    "collapsed": false,
    "pycharm": {
     "name": "#%%\n"
    }
   }
  },
  {
   "cell_type": "code",
   "execution_count": 5,
   "outputs": [
    {
     "name": "stdout",
     "output_type": "stream",
     "text": [
      "Iteration 4 -> Reward -200.0\n"
     ]
    }
   ],
   "source": [
    "for i in range(5):\n",
    "    clear_output(wait=True)\n",
    "    reward = engine.run(env, agent)\n",
    "    print(\"Iteration\", i, \"->\", \"Reward\", reward)"
   ],
   "metadata": {
    "collapsed": false,
    "pycharm": {
     "name": "#%%\n"
    }
   }
  }
 ],
 "metadata": {
  "kernelspec": {
   "display_name": "Python 3",
   "language": "python",
   "name": "python3"
  },
  "language_info": {
   "codemirror_mode": {
    "name": "ipython",
    "version": 2
   },
   "file_extension": ".py",
   "mimetype": "text/x-python",
   "name": "python",
   "nbconvert_exporter": "python",
   "pygments_lexer": "ipython2",
   "version": "2.7.6"
  }
 },
 "nbformat": 4,
 "nbformat_minor": 0
}