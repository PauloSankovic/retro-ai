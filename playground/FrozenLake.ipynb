{
 "cells": [
  {
   "cell_type": "markdown",
   "metadata": {
    "collapsed": true,
    "pycharm": {
     "name": "#%% md\n"
    }
   },
   "source": [
    "## Classic Control\n",
    "\n",
    "### FrozenLake (v1)\n",
    "\n",
    "The agent controls the movement of a character in a grid world. \n",
    "Some tiles of the grid are walkable, and others lead to the agent falling into the water. \n",
    "Additionally, the movement direction of the agent is uncertain and only partially depends on the chosen direction. \n",
    "The agent is rewarded for finding a walkable path to a goal tile.\n",
    "\n",
    "**Story:**\n",
    "_Winter is here. You and your friends were tossing around a frisbee at the park when you made a wild throw that left the frisbee out in the middle of the lake._\n",
    "_The water is mostly frozen, but there are a few holes where the ice has melted._\n",
    "_If you step into one of those holes, you'll fall into the freezing water._\n",
    "\n",
    "_At this time, there's an international frisbee shortage, so it's absolutely imperative that you navigate across the lake and retrieve the disc._\n",
    "_However, the ice is slippery, so you won't always move in the direction you intend._\n",
    "\n",
    "_The surface is described using a grid like the following:_\n",
    "\n",
    "```\n",
    "    SFFF\n",
    "    FHFH\n",
    "    FFFH\n",
    "    HFFG\n",
    "\n",
    "S : starting point, safe\n",
    "F : frozen surface, safe\n",
    "H : hole, fall to your doom\n",
    "G : goal, where the frisbee is located\n",
    "```\n",
    "\n",
    "[Environment Source code (GitHub)](https://github.com/openai/gym/blob/master/gym/envs/toy_text/frozen_lake.py)"
   ]
  },
  {
   "cell_type": "code",
   "execution_count": 1,
   "outputs": [],
   "source": [
    "from IPython.display import Markdown, display, clear_output"
   ],
   "metadata": {
    "collapsed": false,
    "pycharm": {
     "name": "#%%\n"
    }
   }
  },
  {
   "cell_type": "code",
   "execution_count": 2,
   "outputs": [],
   "source": [
    "import engine\n",
    "import envs"
   ],
   "metadata": {
    "collapsed": false,
    "pycharm": {
     "name": "#%%\n"
    }
   }
  },
  {
   "cell_type": "code",
   "execution_count": 3,
   "outputs": [
    {
     "name": "stdout",
     "output_type": "stream",
     "text": [
      "Observation space type: <class 'gym.spaces.discrete.Discrete'>\n",
      "Observation space size: 16 * int64\n"
     ]
    },
    {
     "data": {
      "text/plain": "<IPython.core.display.Markdown object>",
      "text/markdown": "---"
     },
     "metadata": {},
     "output_type": "display_data"
    },
    {
     "name": "stdout",
     "output_type": "stream",
     "text": [
      "Action space type: Discrete(4)\n"
     ]
    },
    {
     "data": {
      "text/plain": "<IPython.core.display.Markdown object>",
      "text/markdown": "---"
     },
     "metadata": {},
     "output_type": "display_data"
    },
    {
     "name": "stdout",
     "output_type": "stream",
     "text": [
      "Reward range: (0, 1)\n"
     ]
    }
   ],
   "source": [
    "env = engine.instantiate(envs.FROZEN_LAKE, is_slippery=False)\n",
    "\n",
    "print(\"Observation space type:\", type(env.observation_space))\n",
    "print(\"Observation space size:\", env.observation_space.n, \"*\", env.observation_space.dtype)\n",
    "\n",
    "display(Markdown('---'))\n",
    "\n",
    "print(\"Action space type:\", env.action_space)\n",
    "\n",
    "display(Markdown('---'))\n",
    "\n",
    "print(\"Reward range:\", env.reward_range)"
   ],
   "metadata": {
    "collapsed": false,
    "pycharm": {
     "name": "#%%\n"
    }
   }
  },
  {
   "cell_type": "code",
   "execution_count": 4,
   "outputs": [
    {
     "data": {
      "text/plain": "<IPython.core.display.Markdown object>",
      "text/markdown": "### Initial state:"
     },
     "metadata": {},
     "output_type": "display_data"
    },
    {
     "name": "stdout",
     "output_type": "stream",
     "text": [
      "S F F F\n",
      "F H F H\n",
      "F F F H\n",
      "H F F G\n"
     ]
    }
   ],
   "source": [
    "display(Markdown(\"### Initial state:\"))\n",
    "\n",
    "desc = [[c.decode(\"utf-8\") for c in line] for line in env.env.desc]\n",
    "print(\"\\n\".join(\" \".join(line) for line in desc))"
   ],
   "metadata": {
    "collapsed": false,
    "pycharm": {
     "name": "#%%\n"
    }
   }
  },
  {
   "cell_type": "code",
   "execution_count": 5,
   "outputs": [],
   "source": [
    "from agents import AStarAgent\n",
    "\n",
    "agent = AStarAgent(env, (4, 4))    "
   ],
   "metadata": {
    "collapsed": false,
    "pycharm": {
     "name": "#%%\n"
    }
   }
  },
  {
   "cell_type": "code",
   "execution_count": 6,
   "outputs": [
    {
     "name": "stdout",
     "output_type": "stream",
     "text": [
      "  (Down)\n",
      "SFFF\n",
      "\u001B[41mF\u001B[0mHFH\n",
      "FFFH\n",
      "HFFG\n",
      "  (Down)\n",
      "SFFF\n",
      "FHFH\n",
      "\u001B[41mF\u001B[0mFFH\n",
      "HFFG\n",
      "  (Right)\n",
      "SFFF\n",
      "FHFH\n",
      "F\u001B[41mF\u001B[0mFH\n",
      "HFFG\n",
      "  (Down)\n",
      "SFFF\n",
      "FHFH\n",
      "FFFH\n",
      "H\u001B[41mF\u001B[0mFG\n",
      "  (Right)\n",
      "SFFF\n",
      "FHFH\n",
      "FFFH\n",
      "HF\u001B[41mF\u001B[0mG\n",
      "  (Right)\n",
      "SFFF\n",
      "FHFH\n",
      "FFFH\n",
      "HFF\u001B[41mG\u001B[0m\n",
      "Iteration 0 -> Reward 1.0\n"
     ]
    }
   ],
   "source": [
    "for i in range(1):\n",
    "    clear_output(wait=True)\n",
    "    reward = engine.run(env, agent, timeout=0.5)\n",
    "    print(\"Iteration\", i, \"->\", \"Reward\", reward)"
   ],
   "metadata": {
    "collapsed": false,
    "pycharm": {
     "name": "#%%\n"
    }
   }
  }
 ],
 "metadata": {
  "kernelspec": {
   "display_name": "Python 3",
   "language": "python",
   "name": "python3"
  },
  "language_info": {
   "codemirror_mode": {
    "name": "ipython",
    "version": 2
   },
   "file_extension": ".py",
   "mimetype": "text/x-python",
   "name": "python",
   "nbconvert_exporter": "python",
   "pygments_lexer": "ipython2",
   "version": "2.7.6"
  }
 },
 "nbformat": 4,
 "nbformat_minor": 0
}