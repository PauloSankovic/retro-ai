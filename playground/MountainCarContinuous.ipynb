{
 "cells": [
  {
   "cell_type": "markdown",
   "metadata": {
    "collapsed": true,
    "pycharm": {
     "name": "#%% md\n"
    }
   },
   "source": [
    "## Classic Control\n",
    "\n",
    "### MountainCar Continuous (v0)\n",
    "\n",
    "_An underpowered car must climb a one-dimensional hill to reach a target.\n",
    "Unlike MountainCar v0, the action (engine force applied) is allowed to be a continuous value._\n",
    "\n",
    "_The target is on top of a hill on the right-hand side of the car. \n",
    "If the car reaches it or goes beyond, the episode terminates._\n",
    "\n",
    "_On the left-hand side, there is another hill. \n",
    "Climbing this hill can be used to gain potential energy and accelerate towards the target. \n",
    "On top of this second hill, the car cannot go further than a position equal to -1, as if there was a wall. \n",
    "Hitting this limit does not generate a penalty (it might in a more challenging version)._\n",
    "\n",
    "[Environment Source code (GitHub)](https://github.com/openai/gym/blob/master/gym/envs/classic_control/continuous_mountain_car.py)"
   ]
  },
  {
   "cell_type": "code",
   "execution_count": 1,
   "outputs": [],
   "source": [
    "from IPython.display import Markdown, display, clear_output"
   ],
   "metadata": {
    "collapsed": false,
    "pycharm": {
     "name": "#%%\n"
    }
   }
  },
  {
   "cell_type": "code",
   "execution_count": 2,
   "outputs": [],
   "source": [
    "import engine\n",
    "import envs"
   ],
   "metadata": {
    "collapsed": false,
    "pycharm": {
     "name": "#%%\n"
    }
   }
  },
  {
   "cell_type": "code",
   "execution_count": 3,
   "outputs": [
    {
     "name": "stdout",
     "output_type": "stream",
     "text": [
      "Observation space type: <class 'gym.spaces.box.Box'>\n",
      "Observation space size: (2,) * float32\n",
      "Observation space max values: [0.6  0.07]\n",
      "Observation space min values: [-1.2  -0.07]\n"
     ]
    },
    {
     "data": {
      "text/plain": "<IPython.core.display.Markdown object>",
      "text/markdown": "---"
     },
     "metadata": {},
     "output_type": "display_data"
    },
    {
     "name": "stdout",
     "output_type": "stream",
     "text": [
      "Action space type: Box([-1.], [1.], (1,), float32)\n"
     ]
    },
    {
     "data": {
      "text/plain": "<IPython.core.display.Markdown object>",
      "text/markdown": "---"
     },
     "metadata": {},
     "output_type": "display_data"
    },
    {
     "name": "stdout",
     "output_type": "stream",
     "text": [
      "Reward range: (-inf, inf)\n"
     ]
    }
   ],
   "source": [
    "env = engine.instantiate(envs.MOUNTAIN_CAR_CONTINUOUS)\n",
    "\n",
    "print(\"Observation space type:\", type(env.observation_space))\n",
    "print(\"Observation space size:\", env.observation_space.shape, \"*\", env.observation_space.dtype)\n",
    "print(\"Observation space max values:\", env.observation_space.high)\n",
    "print(\"Observation space min values:\", env.observation_space.low)\n",
    "\n",
    "display(Markdown('---'))\n",
    "\n",
    "print(\"Action space type:\", env.action_space)\n",
    "\n",
    "display(Markdown('---'))\n",
    "\n",
    "print(\"Reward range:\", env.reward_range)"
   ],
   "metadata": {
    "collapsed": false,
    "pycharm": {
     "name": "#%%\n"
    }
   }
  },
  {
   "cell_type": "markdown",
   "source": [
    "### Observation Space - _Box(2)_\n",
    "\n",
    "| Index | Observation Type | Min Value | Max Value |\n",
    "|:-----:|------------------|:---------:|:---------:|\n",
    "|   0   | Car Position     |   -1.2    |    0.6    |\n",
    "|   1   | Car Velocity     |   -0.07   |   0.07    |\n",
    "\n",
    "### Action Space - _Box(1)_\n",
    "\n",
    "| Action | Action Type           | Min Value | Max Value |\n",
    "|:------:|-----------------------|:---------:|:---------:|\n",
    "|   0    | The Power Coefficient |   -1.0    |    1.0    |\n",
    "\n",
    "_**Note**: Actual driving force is calculated by multiplying the power coefficient by power (0.0015)._\n",
    "\n",
    "### Reward\n",
    "Reward of 100 is awarded if the agent reached the flag (position = 0.45) on top of the mountain.\n",
    "Reward is decreased based on amount of energy consumed per each step.\n",
    "\n",
    "### Starting State\n",
    "The position of the car is assigned a uniform random value in [-0.6, -0.4].\n",
    "The starting velocity of the car is always assigned to 0.\n",
    "\n",
    "### Termination Conditions\n",
    "1) The Car position is more than 0.45\n",
    "2) Episode length is greater than 200\n",
    "\n",
    "### Solved Requirements\n",
    "Considered solved reward is over 90."
   ],
   "metadata": {
    "collapsed": false,
    "pycharm": {
     "name": "#%% md\n"
    }
   }
  },
  {
   "cell_type": "code",
   "execution_count": 4,
   "outputs": [],
   "source": [
    "from agents import RandomAgent\n",
    "\n",
    "agent = RandomAgent(env)"
   ],
   "metadata": {
    "collapsed": false,
    "pycharm": {
     "name": "#%%\n"
    }
   }
  },
  {
   "cell_type": "code",
   "execution_count": 5,
   "outputs": [
    {
     "name": "stdout",
     "output_type": "stream",
     "text": [
      "Iteration 4 -> Reward -34.19517459694104\n"
     ]
    }
   ],
   "source": [
    "for i in range(5):\n",
    "    clear_output(wait=True)\n",
    "    reward = engine.run(env, agent)\n",
    "    print(\"Iteration\", i, \"->\", \"Reward\", reward)"
   ],
   "metadata": {
    "collapsed": false,
    "pycharm": {
     "name": "#%%\n"
    }
   }
  }
 ],
 "metadata": {
  "kernelspec": {
   "display_name": "Python 3",
   "language": "python",
   "name": "python3"
  },
  "language_info": {
   "codemirror_mode": {
    "name": "ipython",
    "version": 2
   },
   "file_extension": ".py",
   "mimetype": "text/x-python",
   "name": "python",
   "nbconvert_exporter": "python",
   "pygments_lexer": "ipython2",
   "version": "2.7.6"
  }
 },
 "nbformat": 4,
 "nbformat_minor": 0
}