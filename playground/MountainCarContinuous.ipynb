{
 "cells": [
  {
   "cell_type": "markdown",
   "metadata": {
    "collapsed": true,
    "pycharm": {
     "name": "#%% md\n"
    }
   },
   "source": [
    "## Classic Control\n",
    "\n",
    "### MountainCar (v0)\n",
    "\n",
    "An underpowered car must climb a one-dimensional hill to reach a target. Unlike MountainCar v0, the action (engine force applied) is allowed to be a continuous value.\n",
    "\n",
    "The target is on top of a hill on the right-hand side of the car. If the car reaches it or goes beyond, the episode terminates.\n",
    "\n",
    "On the left-hand side, there is another hill. Climbing this hill can be used to gain potential energy and accelerate towards the target. On top of this second hill, the car cannot go further than a position equal to -1, as if there was a wall. Hitting this limit does not generate a penalty (it might in a more challenging version).\n",
    "\n",
    "[Environment Source code (GitHub)](https://github.com/openai/gym/blob/master/gym/envs/classic_control/continuous_mountain_car.py)"
   ]
  },
  {
   "cell_type": "code",
   "execution_count": null,
   "outputs": [],
   "source": [
    "import engine"
   ],
   "metadata": {
    "collapsed": false,
    "pycharm": {
     "name": "#%%\n"
    }
   }
  },
  {
   "cell_type": "code",
   "execution_count": null,
   "outputs": [],
   "source": [
    "env = engine.instantiate(\"MountainCar-v0\")\n",
    "\n",
    "print(\"Observation space type:\", type(env.observation_space))\n",
    "print(\"Observation space size:\", env.observation_space.shape, \"*\", env.observation_space.dtype)\n",
    "print(\"Observation space max values:\", env.observation_space.high)\n",
    "print(\"Observation space min values:\", env.observation_space.low)\n",
    "\n",
    "print(\"Action space type:\", env.action_space)\n",
    "\n",
    "print(\"Reward range:\", env.reward_range)"
   ],
   "metadata": {
    "collapsed": false,
    "pycharm": {
     "name": "#%%\n"
    }
   }
  },
  {
   "cell_type": "markdown",
   "source": [
    "### Observation Space - _Box(2)_\n",
    "\n",
    "| Index | Observation Type | Min Value | Max Value |\n",
    "|:-----:|------------------|:---------:|:---------:|\n",
    "|   0   | Car Position     |   -1.2    |    0.6    |\n",
    "|   1   | Car Velocity     |   -0.07   |   0.07    |\n",
    "\n",
    "### Action Space - _Discrete(3)_\n",
    "\n",
    "| Action | Action Type             |\n",
    "|:------:|-------------------------|\n",
    "|   0    | Accelerate to the Left  |\n",
    "|   1    | Don't accelerate        |\n",
    "|   2    | Accelerate to the Right |\n",
    "\n",
    "_**Note**: This doesn't affect the amount of velocity affected by the gravitational pull action on the car._\n",
    "\n",
    "### Reward\n",
    "Reward of 0 is awarded if the agent reached the flag (position = 0.5) on top of the mountain.\n",
    "Reward of -1 is awarded if the position of the agent is less than 0.5.\n",
    "\n",
    "### Starting State\n",
    "The position of the car is assigned a uniform random value in [-0.6, -0.4].\n",
    "The starting velocity of the car is always assigned to 0.\n",
    "\n",
    "### Termination Conditions\n",
    "1) The Car position is more than 0.5\n",
    "2) Episode length is greater than 200\n",
    "\n",
    "### Solved Requirements\n",
    "Considered solved when getting the average reward of -110.0 over 100 consecutive trials."
   ],
   "metadata": {
    "collapsed": false,
    "pycharm": {
     "name": "#%% md\n"
    }
   }
  },
  {
   "cell_type": "code",
   "execution_count": null,
   "outputs": [],
   "source": [
    "from agents import RandomAgent\n",
    "\n",
    "agent = RandomAgent(env)"
   ],
   "metadata": {
    "collapsed": false,
    "pycharm": {
     "name": "#%%\n"
    }
   }
  },
  {
   "cell_type": "code",
   "execution_count": null,
   "outputs": [],
   "source": [
    "from IPython.display import clear_output\n",
    "\n",
    "for i in range(100):\n",
    "    clear_output(wait=True)\n",
    "    reward = engine.run(env, agent)\n",
    "    print(\"Iteration\", i, \"->\", \"Reward\", reward)"
   ],
   "metadata": {
    "collapsed": false,
    "pycharm": {
     "name": "#%%\n"
    }
   }
  }
 ],
 "metadata": {
  "kernelspec": {
   "display_name": "Python 3",
   "language": "python",
   "name": "python3"
  },
  "language_info": {
   "codemirror_mode": {
    "name": "ipython",
    "version": 2
   },
   "file_extension": ".py",
   "mimetype": "text/x-python",
   "name": "python",
   "nbconvert_exporter": "python",
   "pygments_lexer": "ipython2",
   "version": "2.7.6"
  }
 },
 "nbformat": 4,
 "nbformat_minor": 0
}